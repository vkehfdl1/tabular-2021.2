{
 "cells": [
  {
   "cell_type": "markdown",
   "metadata": {
    "papermill": {
     "duration": 0.01158,
     "end_time": "2021-02-04T13:12:56.410418",
     "exception": false,
     "start_time": "2021-02-04T13:12:56.398838",
     "status": "completed"
    },
    "tags": []
   },
   "source": [
    "I refer to this notebook for making this kernel. Thank you @shogosuzuki !! https://www.kaggle.com/shogosuzuki/optuna-lightgbm-onehotencoder-lr-0-001"
   ]
  },
  {
   "cell_type": "markdown",
   "metadata": {
    "papermill": {
     "duration": 0.009784,
     "end_time": "2021-02-04T13:12:56.430411",
     "exception": false,
     "start_time": "2021-02-04T13:12:56.420627",
     "status": "completed"
    },
    "tags": []
   },
   "source": [
    "# **한국인을 위한 Tabular Playground Feb. 베이스라인**"
   ]
  },
  {
   "cell_type": "markdown",
   "metadata": {
    "papermill": {
     "duration": 0.009684,
     "end_time": "2021-02-04T13:12:56.450399",
     "exception": false,
     "start_time": "2021-02-04T13:12:56.440715",
     "status": "completed"
    },
    "tags": []
   },
   "source": [
    "이 competition은 Kaggle에서 매 달마다 진행하는 Tabular Playground 시리즈의 2월 대회입니다. Titanic이나 mnist 등 입문격의 대회보다는 어렵지만, 상금이 걸린 대회보다는 훨씬 쉬운, 머신러닝 초보자들이 참여하기 좋은 대회입니다. \n",
    "\n",
    "이 대회는 10개의 문자로 이루어진 레이블과 14개의 숫자 레이블을 통하여 하나의 Target을 예측하는 문제입니다. 간단한 DNN부터 Random Forest와 같은 Tree-based 모델, XGBoost와 같은 Gradient Boosting 모델 등을 이용할 수 있습니다. 이 베이스라인 코드에서는 LightGBM 모델을 사용하겠습니다. LGBM 모델에 관한 자세한 내용은 이 링크를 참고해주시기 바랍니다. https://nurilee.com/2020/04/03/lightgbm-definition-parameter-tuning/\n",
    "\n",
    "입문자 분들을 위하여 라이브러리 import를 제외한 코드 하나하나 주석으로 설명을 첨부하였습니다. \n",
    "\n",
    "질문은 언제든지 댓글에 남겨주세요! numpy, pandas, scikit-learn, LGBM은 공식 문서를 참고하면 더욱 정확한 정보를 빠르게 찾을 수 있습니다.\n",
    "\n",
    "* numpy - https://numpy.org/doc/1.19/\n",
    "* pandas - https://pandas.pydata.org/pandas-docs/stable/reference/index.html\n",
    "* scikit-learn - https://scikit-learn.org/stable/modules/classes.html\n",
    "* LGBM - https://lightgbm.readthedocs.io/en/latest/"
   ]
  },
  {
   "cell_type": "markdown",
   "metadata": {
    "papermill": {
     "duration": 0.010345,
     "end_time": "2021-02-04T13:12:56.471262",
     "exception": false,
     "start_time": "2021-02-04T13:12:56.460917",
     "status": "completed"
    },
    "tags": []
   },
   "source": [
    "# **라이브러리 import**"
   ]
  },
  {
   "cell_type": "code",
   "execution_count": 1,
   "metadata": {
    "_cell_guid": "b1efdd3d-2cec-4163-ab33-de6ea7431b69",
    "_uuid": "d0833d38-21e0-4a26-a295-955d402ff27f",
    "execution": {
     "iopub.execute_input": "2021-02-04T13:12:56.495010Z",
     "iopub.status.busy": "2021-02-04T13:12:56.494333Z",
     "iopub.status.idle": "2021-02-04T13:12:58.127302Z",
     "shell.execute_reply": "2021-02-04T13:12:58.127766Z"
    },
    "papermill": {
     "duration": 1.646378,
     "end_time": "2021-02-04T13:12:58.128109",
     "exception": false,
     "start_time": "2021-02-04T13:12:56.481731",
     "status": "completed"
    },
    "tags": []
   },
   "outputs": [
    {
     "data": {
      "text/html": [
       "<style type='text/css'>\n",
       ".datatable table.frame { margin-bottom: 0; }\n",
       ".datatable table.frame thead { border-bottom: none; }\n",
       ".datatable table.frame tr.coltypes td {  color: #FFFFFF;  line-height: 6px;  padding: 0 0.5em;}\n",
       ".datatable .bool    { background: #DDDD99; }\n",
       ".datatable .object  { background: #565656; }\n",
       ".datatable .int     { background: #5D9E5D; }\n",
       ".datatable .float   { background: #4040CC; }\n",
       ".datatable .str     { background: #CC4040; }\n",
       ".datatable .row_index {  background: var(--jp-border-color3);  border-right: 1px solid var(--jp-border-color0);  color: var(--jp-ui-font-color3);  font-size: 9px;}\n",
       ".datatable .frame tr.coltypes .row_index {  background: var(--jp-border-color0);}\n",
       ".datatable th:nth-child(2) { padding-left: 12px; }\n",
       ".datatable .hellipsis {  color: var(--jp-cell-editor-border-color);}\n",
       ".datatable .vellipsis {  background: var(--jp-layout-color0);  color: var(--jp-cell-editor-border-color);}\n",
       ".datatable .na {  color: var(--jp-cell-editor-border-color);  font-size: 80%;}\n",
       ".datatable .footer { font-size: 9px; }\n",
       ".datatable .frame_dimensions {  background: var(--jp-border-color3);  border-top: 1px solid var(--jp-border-color0);  color: var(--jp-ui-font-color3);  display: inline-block;  opacity: 0.6;  padding: 1px 10px 1px 5px;}\n",
       "</style>\n"
      ],
      "text/plain": [
       "<IPython.core.display.HTML object>"
      ]
     },
     "metadata": {},
     "output_type": "display_data"
    }
   ],
   "source": [
    "import numpy as np \n",
    "import pandas as pd\n",
    "import lightgbm as lgb\n",
    "from sklearn.model_selection import KFold\n",
    "from sklearn.metrics import mean_squared_error\n",
    "import category_encoders as ce"
   ]
  },
  {
   "cell_type": "markdown",
   "metadata": {
    "papermill": {
     "duration": 0.010559,
     "end_time": "2021-02-04T13:12:58.150342",
     "exception": false,
     "start_time": "2021-02-04T13:12:58.139783",
     "status": "completed"
    },
    "tags": []
   },
   "source": [
    "# **데이터 전처리**"
   ]
  },
  {
   "cell_type": "code",
   "execution_count": 2,
   "metadata": {
    "execution": {
     "iopub.execute_input": "2021-02-04T13:12:58.176435Z",
     "iopub.status.busy": "2021-02-04T13:12:58.175785Z",
     "iopub.status.idle": "2021-02-04T13:13:02.235391Z",
     "shell.execute_reply": "2021-02-04T13:13:02.234764Z"
    },
    "papermill": {
     "duration": 4.074144,
     "end_time": "2021-02-04T13:13:02.235549",
     "exception": false,
     "start_time": "2021-02-04T13:12:58.161405",
     "status": "completed"
    },
    "tags": []
   },
   "outputs": [],
   "source": [
    "df_train = pd.read_csv(\"/kaggle/input/tabular-playground-series-feb-2021/train.csv\") #train 데이터를 로드합니다\n",
    "df_test = pd.read_csv(\"/kaggle/input/tabular-playground-series-feb-2021/test.csv\") #test 데이터를 로드합니다\n",
    "df_sample = pd.read_csv(\"/kaggle/input/tabular-playground-series-feb-2021/sample_submission.csv\") #submission 파일 예시를 로드합니다"
   ]
  },
  {
   "cell_type": "code",
   "execution_count": 3,
   "metadata": {
    "execution": {
     "iopub.execute_input": "2021-02-04T13:13:02.269543Z",
     "iopub.status.busy": "2021-02-04T13:13:02.268858Z",
     "iopub.status.idle": "2021-02-04T13:13:02.356407Z",
     "shell.execute_reply": "2021-02-04T13:13:02.356885Z"
    },
    "papermill": {
     "duration": 0.110315,
     "end_time": "2021-02-04T13:13:02.357083",
     "exception": false,
     "start_time": "2021-02-04T13:13:02.246768",
     "status": "completed"
    },
    "tags": []
   },
   "outputs": [],
   "source": [
    "df_train.drop(\"id\", axis=1, inplace=True) #train 데이터에서 id 열을 버립니다. inplace가 True면 복사본을 반환하지 않습니다.\n",
    "df_test.drop(\"id\", axis=1, inplace=True) #test 데이터에서 id 열을 버립니다."
   ]
  },
  {
   "cell_type": "code",
   "execution_count": 4,
   "metadata": {
    "execution": {
     "iopub.execute_input": "2021-02-04T13:13:02.383427Z",
     "iopub.status.busy": "2021-02-04T13:13:02.382472Z",
     "iopub.status.idle": "2021-02-04T13:13:02.386792Z",
     "shell.execute_reply": "2021-02-04T13:13:02.387210Z"
    },
    "papermill": {
     "duration": 0.019195,
     "end_time": "2021-02-04T13:13:02.387390",
     "exception": false,
     "start_time": "2021-02-04T13:13:02.368195",
     "status": "completed"
    },
    "tags": []
   },
   "outputs": [],
   "source": [
    "cat_labels = [f\"cat{i}\" for i in range(10)] #cat0부터 cat9까지 10개의 문자로 이루어진 레이블을 정의합니다. "
   ]
  },
  {
   "cell_type": "markdown",
   "metadata": {
    "papermill": {
     "duration": 0.010819,
     "end_time": "2021-02-04T13:13:02.409385",
     "exception": false,
     "start_time": "2021-02-04T13:13:02.398566",
     "status": "completed"
    },
    "tags": []
   },
   "source": [
    "데이터 전처리 과정에서 OneHotEncoder를 사용합니다. 문자로 이루어진 레이블은 바로 계산할 수 없기 때문에 숫자로 바꾸어주어야 합니다.\n",
    "OneHotEncoder는 각 레이블 구성 요소의 종류만큼 새로운 레이블을 만들고, 각 종류에 해당하는지를 0과 1로 표현하는 방식으로 문자를 숫자로 변환합니다. \n",
    "가장 정확도가 높지만 데이터의 양이 많아질 수 있다는 단점도 있습니다. \n",
    "예를 들어, A와 B로 이루어진 레이블을 OneHotEncoder를 사용해서 변환하면 A는 [1,0], B는 [0,1]과 같은 형식으로 표현하게 됩니다. "
   ]
  },
  {
   "cell_type": "code",
   "execution_count": 5,
   "metadata": {
    "execution": {
     "iopub.execute_input": "2021-02-04T13:13:02.436754Z",
     "iopub.status.busy": "2021-02-04T13:13:02.435810Z",
     "iopub.status.idle": "2021-02-04T13:13:08.330001Z",
     "shell.execute_reply": "2021-02-04T13:13:08.329367Z"
    },
    "papermill": {
     "duration": 5.908284,
     "end_time": "2021-02-04T13:13:08.330159",
     "exception": false,
     "start_time": "2021-02-04T13:13:02.421875",
     "status": "completed"
    },
    "tags": []
   },
   "outputs": [
    {
     "name": "stderr",
     "output_type": "stream",
     "text": [
      "/opt/conda/lib/python3.7/site-packages/category_encoders/utils.py:21: FutureWarning: is_categorical is deprecated and will be removed in a future version.  Use is_categorical_dtype instead\n",
      "  elif pd.api.types.is_categorical(cols):\n"
     ]
    }
   ],
   "source": [
    "onehot_encoder = ce.one_hot.OneHotEncoder() #OneHotEncoder를 정의합니다.\n",
    "onehot_encoder.fit(pd.concat([df_train[cat_labels], df_test[cat_labels]], axis=0)) #train 데이터와 test 데이터를 합친 후 OneHotEncoding을 실행합니다.\n",
    "train_ohe = onehot_encoder.transform(df_train[cat_labels]) #train 데이터에 OneHotEncoding을 적용한 train_ohe를 만듭니다.\n",
    "test_ohe = onehot_encoder.transform(df_test[cat_labels]) #test 데이터에 OneHotEncoding을 적용한 test_ohe를 만듭니다.\n",
    "train_ohe.columns = [f\"OHE_{col}\" for col in train_ohe] #OneHotEncoder는 각 레이블의 이름을 정해주지 않기 때문에, 레이블의 이름을 정해줍니다. \n",
    "test_ohe.columns = [f\"OHE_{col}\" for col in test_ohe] #레이블의 이름을 정해줍니다. "
   ]
  },
  {
   "cell_type": "code",
   "execution_count": 6,
   "metadata": {
    "execution": {
     "iopub.execute_input": "2021-02-04T13:13:08.358704Z",
     "iopub.status.busy": "2021-02-04T13:13:08.358077Z",
     "iopub.status.idle": "2021-02-04T13:13:08.361395Z",
     "shell.execute_reply": "2021-02-04T13:13:08.360932Z"
    },
    "papermill": {
     "duration": 0.019483,
     "end_time": "2021-02-04T13:13:08.361545",
     "exception": false,
     "start_time": "2021-02-04T13:13:08.342062",
     "status": "completed"
    },
    "tags": []
   },
   "outputs": [],
   "source": [
    "numerical_labels = [f\"cont{i}\" for i in range(14)] #cont0부터 cont13까지 14개의 숫자로 이루어진 레이블을 정의합니다. "
   ]
  },
  {
   "cell_type": "code",
   "execution_count": 7,
   "metadata": {
    "execution": {
     "iopub.execute_input": "2021-02-04T13:13:08.402898Z",
     "iopub.status.busy": "2021-02-04T13:13:08.402253Z",
     "iopub.status.idle": "2021-02-04T13:13:08.469009Z",
     "shell.execute_reply": "2021-02-04T13:13:08.468469Z"
    },
    "papermill": {
     "duration": 0.095976,
     "end_time": "2021-02-04T13:13:08.469158",
     "exception": false,
     "start_time": "2021-02-04T13:13:08.373182",
     "status": "completed"
    },
    "tags": []
   },
   "outputs": [],
   "source": [
    "train_x = pd.concat([df_train[numerical_labels],train_ohe], axis=1) #OneHotEncoding을 한 문자 label과 숫자 label을 합쳐 최종 train 데이터를 만듭니다."
   ]
  },
  {
   "cell_type": "code",
   "execution_count": 8,
   "metadata": {
    "execution": {
     "iopub.execute_input": "2021-02-04T13:13:08.502909Z",
     "iopub.status.busy": "2021-02-04T13:13:08.502277Z",
     "iopub.status.idle": "2021-02-04T13:13:08.548567Z",
     "shell.execute_reply": "2021-02-04T13:13:08.548066Z"
    },
    "papermill": {
     "duration": 0.067925,
     "end_time": "2021-02-04T13:13:08.548725",
     "exception": false,
     "start_time": "2021-02-04T13:13:08.480800",
     "status": "completed"
    },
    "tags": []
   },
   "outputs": [],
   "source": [
    "test_x = pd.concat([df_test[numerical_labels],test_ohe], axis=1) #최종 train 데이터를 만듭니다."
   ]
  },
  {
   "cell_type": "code",
   "execution_count": 9,
   "metadata": {
    "execution": {
     "iopub.execute_input": "2021-02-04T13:13:08.576775Z",
     "iopub.status.busy": "2021-02-04T13:13:08.576140Z",
     "iopub.status.idle": "2021-02-04T13:13:08.578371Z",
     "shell.execute_reply": "2021-02-04T13:13:08.578873Z"
    },
    "papermill": {
     "duration": 0.018671,
     "end_time": "2021-02-04T13:13:08.579035",
     "exception": false,
     "start_time": "2021-02-04T13:13:08.560364",
     "status": "completed"
    },
    "tags": []
   },
   "outputs": [],
   "source": [
    "train_y = df_train[\"target\"] #train 데이터의 Target 값을 train_y로 정의해줍니다. "
   ]
  },
  {
   "cell_type": "markdown",
   "metadata": {
    "papermill": {
     "duration": 0.012193,
     "end_time": "2021-02-04T13:13:08.603070",
     "exception": false,
     "start_time": "2021-02-04T13:13:08.590877",
     "status": "completed"
    },
    "tags": []
   },
   "source": [
    "# **모델 훈련 (교차 검증 포함)**"
   ]
  },
  {
   "cell_type": "markdown",
   "metadata": {
    "papermill": {
     "duration": 0.011444,
     "end_time": "2021-02-04T13:13:08.627310",
     "exception": false,
     "start_time": "2021-02-04T13:13:08.615866",
     "status": "completed"
    },
    "tags": []
   },
   "source": [
    "교차 검증 (Cross Validation)이란 train 데이터에서 실제로 학습시키는 데이터와 확인을 위한 validation 데이터를 여러번 분리하여 학습합니다. 이를 통하여 모델의 성능 평가를 일반화하고, 오버피팅을 방지할 수도 있습니다. 여기서는 KFold를 5개의 fold로 나누는데, 이렇게 되면 20%의 train 데이터를 validation에 사용하며, 5번 모두 다른 20%의 데이터로 validation을 합니다. 자세한 내용은 이 링크를 참고하시기 바랍니다. https://3months.tistory.com/321"
   ]
  },
  {
   "cell_type": "code",
   "execution_count": 10,
   "metadata": {
    "execution": {
     "iopub.execute_input": "2021-02-04T13:13:08.653820Z",
     "iopub.status.busy": "2021-02-04T13:13:08.653186Z",
     "iopub.status.idle": "2021-02-04T13:13:08.657884Z",
     "shell.execute_reply": "2021-02-04T13:13:08.657396Z"
    },
    "papermill": {
     "duration": 0.01898,
     "end_time": "2021-02-04T13:13:08.658027",
     "exception": false,
     "start_time": "2021-02-04T13:13:08.639047",
     "status": "completed"
    },
    "tags": []
   },
   "outputs": [],
   "source": [
    "folds = KFold(n_splits=5, shuffle=True, random_state=2021) #5 fold의 KFold를 정의합니다. random_state는 임의대로 정의하여도 됩니다. "
   ]
  },
  {
   "cell_type": "code",
   "execution_count": 11,
   "metadata": {
    "execution": {
     "iopub.execute_input": "2021-02-04T13:13:08.687197Z",
     "iopub.status.busy": "2021-02-04T13:13:08.686642Z",
     "iopub.status.idle": "2021-02-04T13:13:08.689622Z",
     "shell.execute_reply": "2021-02-04T13:13:08.688944Z"
    },
    "papermill": {
     "duration": 0.019554,
     "end_time": "2021-02-04T13:13:08.689768",
     "exception": false,
     "start_time": "2021-02-04T13:13:08.670214",
     "status": "completed"
    },
    "tags": []
   },
   "outputs": [],
   "source": [
    "lgb_params = dict({'objective': 'regression', #LGBM 모델의 다양한 parameter들을 정의합니다. 이 문제는 회귀 문제이므로 regression으로 정의합니다. \n",
    " 'metric': 'rmse', #이 대회에서는 평가에 RMSE를 사용합니다. \n",
    " 'verbosity': -1, #모델 훈련 상태를 얼마만큼 알려줄 것인지 설정합니다. \n",
    " 'learning_rate': 0.01, #learning rate를 설정합니다\n",
    " 'early_stopping_round' : 200, #200번의 훈련 동안 모델의 성능에 향상이 없으면 학습을 중지합니다. \n",
    " 'num_iterations' : 20000}) #최대 20000번 훈련합니다. "
   ]
  },
  {
   "cell_type": "code",
   "execution_count": 12,
   "metadata": {
    "execution": {
     "iopub.execute_input": "2021-02-04T13:13:08.717050Z",
     "iopub.status.busy": "2021-02-04T13:13:08.716421Z",
     "iopub.status.idle": "2021-02-04T13:17:55.137068Z",
     "shell.execute_reply": "2021-02-04T13:17:55.136160Z"
    },
    "papermill": {
     "duration": 286.435299,
     "end_time": "2021-02-04T13:17:55.137244",
     "exception": false,
     "start_time": "2021-02-04T13:13:08.701945",
     "status": "completed"
    },
    "tags": []
   },
   "outputs": [
    {
     "name": "stderr",
     "output_type": "stream",
     "text": [
      "/opt/conda/lib/python3.7/site-packages/lightgbm/engine.py:151: UserWarning: Found `num_iterations` in params. Will use it instead of argument\n",
      "  warnings.warn(\"Found `{}` in params. Will use it instead of argument\".format(alias))\n",
      "/opt/conda/lib/python3.7/site-packages/lightgbm/engine.py:156: UserWarning: Found `early_stopping_round` in params. Will use it instead of argument\n",
      "  warnings.warn(\"Found `{}` in params. Will use it instead of argument\".format(alias))\n"
     ]
    },
    {
     "name": "stdout",
     "output_type": "stream",
     "text": [
      "Training until validation scores don't improve for 200 rounds\n",
      "[100]\tvalid_0's rmse: 0.865812\n",
      "[200]\tvalid_0's rmse: 0.858065\n",
      "[300]\tvalid_0's rmse: 0.854028\n",
      "[400]\tvalid_0's rmse: 0.851472\n",
      "[500]\tvalid_0's rmse: 0.849695\n",
      "[600]\tvalid_0's rmse: 0.848408\n",
      "[700]\tvalid_0's rmse: 0.847412\n",
      "[800]\tvalid_0's rmse: 0.846638\n",
      "[900]\tvalid_0's rmse: 0.846033\n",
      "[1000]\tvalid_0's rmse: 0.845574\n",
      "[1100]\tvalid_0's rmse: 0.845271\n",
      "[1200]\tvalid_0's rmse: 0.845041\n",
      "[1300]\tvalid_0's rmse: 0.844883\n",
      "[1400]\tvalid_0's rmse: 0.844761\n",
      "[1500]\tvalid_0's rmse: 0.844662\n",
      "[1600]\tvalid_0's rmse: 0.844575\n",
      "[1700]\tvalid_0's rmse: 0.844503\n",
      "[1800]\tvalid_0's rmse: 0.844463\n",
      "[1900]\tvalid_0's rmse: 0.844425\n",
      "[2000]\tvalid_0's rmse: 0.844367\n",
      "[2100]\tvalid_0's rmse: 0.844335\n",
      "[2200]\tvalid_0's rmse: 0.844285\n",
      "[2300]\tvalid_0's rmse: 0.844244\n",
      "[2400]\tvalid_0's rmse: 0.844215\n",
      "[2500]\tvalid_0's rmse: 0.844202\n",
      "[2600]\tvalid_0's rmse: 0.844189\n",
      "[2700]\tvalid_0's rmse: 0.844163\n",
      "[2800]\tvalid_0's rmse: 0.844142\n",
      "[2900]\tvalid_0's rmse: 0.844121\n",
      "[3000]\tvalid_0's rmse: 0.844124\n",
      "[3100]\tvalid_0's rmse: 0.844115\n",
      "[3200]\tvalid_0's rmse: 0.84412\n",
      "Early stopping, best iteration is:\n",
      "[3071]\tvalid_0's rmse: 0.84411\n",
      "Training until validation scores don't improve for 200 rounds\n",
      "[100]\tvalid_0's rmse: 0.869684\n",
      "[200]\tvalid_0's rmse: 0.861991\n",
      "[300]\tvalid_0's rmse: 0.857828\n",
      "[400]\tvalid_0's rmse: 0.855026\n",
      "[500]\tvalid_0's rmse: 0.853028\n",
      "[600]\tvalid_0's rmse: 0.851608\n",
      "[700]\tvalid_0's rmse: 0.850476\n",
      "[800]\tvalid_0's rmse: 0.84952\n",
      "[900]\tvalid_0's rmse: 0.848775\n",
      "[1000]\tvalid_0's rmse: 0.848223\n",
      "[1100]\tvalid_0's rmse: 0.847787\n",
      "[1200]\tvalid_0's rmse: 0.847499\n",
      "[1300]\tvalid_0's rmse: 0.847301\n",
      "[1400]\tvalid_0's rmse: 0.847164\n",
      "[1500]\tvalid_0's rmse: 0.847036\n",
      "[1600]\tvalid_0's rmse: 0.846947\n",
      "[1700]\tvalid_0's rmse: 0.846876\n",
      "[1800]\tvalid_0's rmse: 0.846786\n",
      "[1900]\tvalid_0's rmse: 0.846685\n",
      "[2000]\tvalid_0's rmse: 0.846614\n",
      "[2100]\tvalid_0's rmse: 0.846577\n",
      "[2200]\tvalid_0's rmse: 0.846522\n",
      "[2300]\tvalid_0's rmse: 0.846501\n",
      "[2400]\tvalid_0's rmse: 0.846451\n",
      "[2500]\tvalid_0's rmse: 0.846407\n",
      "[2600]\tvalid_0's rmse: 0.846393\n",
      "[2700]\tvalid_0's rmse: 0.846369\n",
      "[2800]\tvalid_0's rmse: 0.846334\n",
      "[2900]\tvalid_0's rmse: 0.846296\n",
      "[3000]\tvalid_0's rmse: 0.846275\n",
      "[3100]\tvalid_0's rmse: 0.846262\n",
      "[3200]\tvalid_0's rmse: 0.846249\n",
      "[3300]\tvalid_0's rmse: 0.846234\n",
      "[3400]\tvalid_0's rmse: 0.846244\n",
      "Early stopping, best iteration is:\n",
      "[3287]\tvalid_0's rmse: 0.84623\n",
      "Training until validation scores don't improve for 200 rounds\n",
      "[100]\tvalid_0's rmse: 0.867329\n",
      "[200]\tvalid_0's rmse: 0.859209\n",
      "[300]\tvalid_0's rmse: 0.854854\n",
      "[400]\tvalid_0's rmse: 0.852027\n",
      "[500]\tvalid_0's rmse: 0.850108\n",
      "[600]\tvalid_0's rmse: 0.848659\n",
      "[700]\tvalid_0's rmse: 0.847522\n",
      "[800]\tvalid_0's rmse: 0.846696\n",
      "[900]\tvalid_0's rmse: 0.846069\n",
      "[1000]\tvalid_0's rmse: 0.84559\n",
      "[1100]\tvalid_0's rmse: 0.845213\n",
      "[1200]\tvalid_0's rmse: 0.844938\n",
      "[1300]\tvalid_0's rmse: 0.844729\n",
      "[1400]\tvalid_0's rmse: 0.844587\n",
      "[1500]\tvalid_0's rmse: 0.84452\n",
      "[1600]\tvalid_0's rmse: 0.844419\n",
      "[1700]\tvalid_0's rmse: 0.844315\n",
      "[1800]\tvalid_0's rmse: 0.844254\n",
      "[1900]\tvalid_0's rmse: 0.844212\n",
      "[2000]\tvalid_0's rmse: 0.844179\n",
      "[2100]\tvalid_0's rmse: 0.844135\n",
      "[2200]\tvalid_0's rmse: 0.844114\n",
      "[2300]\tvalid_0's rmse: 0.844109\n",
      "[2400]\tvalid_0's rmse: 0.844085\n",
      "[2500]\tvalid_0's rmse: 0.844079\n",
      "[2600]\tvalid_0's rmse: 0.844058\n",
      "[2700]\tvalid_0's rmse: 0.844056\n",
      "[2800]\tvalid_0's rmse: 0.844058\n",
      "[2900]\tvalid_0's rmse: 0.844047\n",
      "[3000]\tvalid_0's rmse: 0.84403\n",
      "[3100]\tvalid_0's rmse: 0.844023\n",
      "[3200]\tvalid_0's rmse: 0.844015\n",
      "[3300]\tvalid_0's rmse: 0.844007\n",
      "[3400]\tvalid_0's rmse: 0.843997\n",
      "[3500]\tvalid_0's rmse: 0.843972\n",
      "[3600]\tvalid_0's rmse: 0.843977\n",
      "[3700]\tvalid_0's rmse: 0.843962\n",
      "[3800]\tvalid_0's rmse: 0.84397\n",
      "[3900]\tvalid_0's rmse: 0.843941\n",
      "[4000]\tvalid_0's rmse: 0.843925\n",
      "[4100]\tvalid_0's rmse: 0.84392\n",
      "[4200]\tvalid_0's rmse: 0.843926\n",
      "[4300]\tvalid_0's rmse: 0.843939\n",
      "Early stopping, best iteration is:\n",
      "[4133]\tvalid_0's rmse: 0.843913\n",
      "Training until validation scores don't improve for 200 rounds\n",
      "[100]\tvalid_0's rmse: 0.863873\n",
      "[200]\tvalid_0's rmse: 0.856246\n",
      "[300]\tvalid_0's rmse: 0.852101\n",
      "[400]\tvalid_0's rmse: 0.849421\n",
      "[500]\tvalid_0's rmse: 0.847598\n",
      "[600]\tvalid_0's rmse: 0.846206\n",
      "[700]\tvalid_0's rmse: 0.845116\n",
      "[800]\tvalid_0's rmse: 0.844241\n",
      "[900]\tvalid_0's rmse: 0.843495\n",
      "[1000]\tvalid_0's rmse: 0.842953\n",
      "[1100]\tvalid_0's rmse: 0.842576\n",
      "[1200]\tvalid_0's rmse: 0.842347\n",
      "[1300]\tvalid_0's rmse: 0.842166\n",
      "[1400]\tvalid_0's rmse: 0.842062\n",
      "[1500]\tvalid_0's rmse: 0.841983\n",
      "[1600]\tvalid_0's rmse: 0.841917\n",
      "[1700]\tvalid_0's rmse: 0.841877\n",
      "[1800]\tvalid_0's rmse: 0.841858\n",
      "[1900]\tvalid_0's rmse: 0.841818\n",
      "[2000]\tvalid_0's rmse: 0.841786\n",
      "[2100]\tvalid_0's rmse: 0.841744\n",
      "[2200]\tvalid_0's rmse: 0.8417\n",
      "[2300]\tvalid_0's rmse: 0.841668\n",
      "[2400]\tvalid_0's rmse: 0.841649\n",
      "[2500]\tvalid_0's rmse: 0.841628\n",
      "[2600]\tvalid_0's rmse: 0.84159\n",
      "[2700]\tvalid_0's rmse: 0.841558\n",
      "[2800]\tvalid_0's rmse: 0.841552\n",
      "[2900]\tvalid_0's rmse: 0.841526\n",
      "[3000]\tvalid_0's rmse: 0.841532\n",
      "[3100]\tvalid_0's rmse: 0.841551\n",
      "Early stopping, best iteration is:\n",
      "[2940]\tvalid_0's rmse: 0.841522\n",
      "Training until validation scores don't improve for 200 rounds\n",
      "[100]\tvalid_0's rmse: 0.870006\n",
      "[200]\tvalid_0's rmse: 0.862367\n",
      "[300]\tvalid_0's rmse: 0.858198\n",
      "[400]\tvalid_0's rmse: 0.855519\n",
      "[500]\tvalid_0's rmse: 0.853616\n",
      "[600]\tvalid_0's rmse: 0.852199\n",
      "[700]\tvalid_0's rmse: 0.851168\n",
      "[800]\tvalid_0's rmse: 0.850331\n",
      "[900]\tvalid_0's rmse: 0.849593\n",
      "[1000]\tvalid_0's rmse: 0.849052\n",
      "[1100]\tvalid_0's rmse: 0.848699\n",
      "[1200]\tvalid_0's rmse: 0.84846\n",
      "[1300]\tvalid_0's rmse: 0.848277\n",
      "[1400]\tvalid_0's rmse: 0.848143\n",
      "[1500]\tvalid_0's rmse: 0.848031\n",
      "[1600]\tvalid_0's rmse: 0.847939\n",
      "[1700]\tvalid_0's rmse: 0.847878\n",
      "[1800]\tvalid_0's rmse: 0.847832\n",
      "[1900]\tvalid_0's rmse: 0.847792\n",
      "[2000]\tvalid_0's rmse: 0.847748\n",
      "[2100]\tvalid_0's rmse: 0.847728\n",
      "[2200]\tvalid_0's rmse: 0.847688\n",
      "[2300]\tvalid_0's rmse: 0.847671\n",
      "[2400]\tvalid_0's rmse: 0.847664\n",
      "[2500]\tvalid_0's rmse: 0.847651\n",
      "[2600]\tvalid_0's rmse: 0.847628\n",
      "[2700]\tvalid_0's rmse: 0.847621\n",
      "[2800]\tvalid_0's rmse: 0.847618\n",
      "[2900]\tvalid_0's rmse: 0.847628\n",
      "Early stopping, best iteration is:\n",
      "[2776]\tvalid_0's rmse: 0.847606\n"
     ]
    }
   ],
   "source": [
    "oof_preds = np.zeros_like(train_y) #validation의 예측값을 저장할 DataFrame을 만듭니다.\n",
    "models = [] #5개의 모델을 저장할 list를 만듭니다.\n",
    "for tr_idx, va_idx in folds.split(train_x): #5번 상호 검증을 수행하며 훈련할 for 반복문을 만듭니다. \n",
    "    tr_x, va_x = train_x.iloc[tr_idx], train_x.iloc[va_idx] #예측에 사용할 x 값들에서 validation 데이터를 분리합니다.\n",
    "    tr_y, va_y = train_y[tr_idx], train_y[va_idx] #예측할 데이터인 y 값들에서 validation 데이터를 분리합니다.\n",
    "            \n",
    "    lgb_train_dataset = lgb.Dataset(tr_x, tr_y) #train 데이터를 LGBM용 데이터셋으로 변환합니다. 자세한 내용은 공식 문서를 참조하세요. https://lightgbm.readthedocs.io/en/latest/pythonapi/lightgbm.Dataset.html\n",
    "    lgb_valid_dataset = lgb.Dataset(va_x, va_y) #test 데이터를 LGBM용 데이터셋으로 변환합니다.\n",
    "    model = lgb.train(lgb_params, lgb_train_dataset, valid_sets=[lgb_valid_dataset], verbose_eval=100) #LGBM 모델을 훈련합니다.\n",
    "    models.append(model) #각 모델을 위에서 정의한 모델 리스트에 입력합니다.\n",
    "    oof_pred = model.predict(va_x) #validation 데이터를 예측합니다.\n",
    "    oof_preds[va_idx] = oof_pred #예측한 값을 위에서 만든 DataFrame에 입력합니다."
   ]
  },
  {
   "cell_type": "code",
   "execution_count": 13,
   "metadata": {
    "execution": {
     "iopub.execute_input": "2021-02-04T13:17:55.249165Z",
     "iopub.status.busy": "2021-02-04T13:17:55.248327Z",
     "iopub.status.idle": "2021-02-04T13:17:55.256116Z",
     "shell.execute_reply": "2021-02-04T13:17:55.256678Z"
    },
    "papermill": {
     "duration": 0.067391,
     "end_time": "2021-02-04T13:17:55.256858",
     "exception": false,
     "start_time": "2021-02-04T13:17:55.189467",
     "status": "completed"
    },
    "tags": []
   },
   "outputs": [
    {
     "data": {
      "text/plain": [
       "0.8446788870093547"
      ]
     },
     "execution_count": 13,
     "metadata": {},
     "output_type": "execute_result"
    }
   ],
   "source": [
    "np.sqrt(mean_squared_error(df_train.target, oof_preds)) #각 모델로 산출한 validation 데이터의 RMSE 점수를 출력하여 모델의 성능을 확인합니다."
   ]
  },
  {
   "cell_type": "code",
   "execution_count": 14,
   "metadata": {
    "execution": {
     "iopub.execute_input": "2021-02-04T13:17:55.366553Z",
     "iopub.status.busy": "2021-02-04T13:17:55.365647Z",
     "iopub.status.idle": "2021-02-04T13:19:33.663328Z",
     "shell.execute_reply": "2021-02-04T13:19:33.663900Z"
    },
    "papermill": {
     "duration": 98.354722,
     "end_time": "2021-02-04T13:19:33.664116",
     "exception": false,
     "start_time": "2021-02-04T13:17:55.309394",
     "status": "completed"
    },
    "tags": []
   },
   "outputs": [],
   "source": [
    "preds = [] #예측값을 저장할 DataFrame을 만듭니다.\n",
    "for model in models: #저장했던 모델들을 하나씩 예측하는 for 반복문을 만듭니다.\n",
    "    pred = model.predict(test_x) #각 모델을 하나씩 예측합니다.\n",
    "    preds.append(pred) #각 예측값을 위에서 만든 DataFrame에 입력합니다.\n",
    "preds = np.mean(preds, axis=0) #각 예측값의 평균을 내어 최종 예측값을 완성합니다."
   ]
  },
  {
   "cell_type": "code",
   "execution_count": 15,
   "metadata": {
    "execution": {
     "iopub.execute_input": "2021-02-04T13:19:33.776006Z",
     "iopub.status.busy": "2021-02-04T13:19:33.775264Z",
     "iopub.status.idle": "2021-02-04T13:19:34.247692Z",
     "shell.execute_reply": "2021-02-04T13:19:34.248114Z"
    },
    "papermill": {
     "duration": 0.529546,
     "end_time": "2021-02-04T13:19:34.248287",
     "exception": false,
     "start_time": "2021-02-04T13:19:33.718741",
     "status": "completed"
    },
    "tags": []
   },
   "outputs": [
    {
     "data": {
      "text/html": [
       "<div>\n",
       "<style scoped>\n",
       "    .dataframe tbody tr th:only-of-type {\n",
       "        vertical-align: middle;\n",
       "    }\n",
       "\n",
       "    .dataframe tbody tr th {\n",
       "        vertical-align: top;\n",
       "    }\n",
       "\n",
       "    .dataframe thead th {\n",
       "        text-align: right;\n",
       "    }\n",
       "</style>\n",
       "<table border=\"1\" class=\"dataframe\">\n",
       "  <thead>\n",
       "    <tr style=\"text-align: right;\">\n",
       "      <th></th>\n",
       "      <th>id</th>\n",
       "      <th>target</th>\n",
       "    </tr>\n",
       "  </thead>\n",
       "  <tbody>\n",
       "    <tr>\n",
       "      <th>0</th>\n",
       "      <td>0</td>\n",
       "      <td>7.606025</td>\n",
       "    </tr>\n",
       "    <tr>\n",
       "      <th>1</th>\n",
       "      <td>5</td>\n",
       "      <td>7.748879</td>\n",
       "    </tr>\n",
       "    <tr>\n",
       "      <th>2</th>\n",
       "      <td>15</td>\n",
       "      <td>7.598841</td>\n",
       "    </tr>\n",
       "    <tr>\n",
       "      <th>3</th>\n",
       "      <td>16</td>\n",
       "      <td>7.449088</td>\n",
       "    </tr>\n",
       "    <tr>\n",
       "      <th>4</th>\n",
       "      <td>17</td>\n",
       "      <td>7.296246</td>\n",
       "    </tr>\n",
       "  </tbody>\n",
       "</table>\n",
       "</div>"
      ],
      "text/plain": [
       "   id    target\n",
       "0   0  7.606025\n",
       "1   5  7.748879\n",
       "2  15  7.598841\n",
       "3  16  7.449088\n",
       "4  17  7.296246"
      ]
     },
     "execution_count": 15,
     "metadata": {},
     "output_type": "execute_result"
    }
   ],
   "source": [
    "sub = df_sample.copy() #submission 샘플을 복사합니다.\n",
    "sub[\"target\"] = preds #샘플의 target column에 최종 예측값을 입력합니다.\n",
    "\n",
    "sub.to_csv(\"submission_baseline(simple parameter).csv\", index=False) #제출을 위한 csv 파일을 생성합니다.\n",
    "\n",
    "sub.head() #최종 제출 파일의 앞부분을 확인합니다."
   ]
  },
  {
   "cell_type": "markdown",
   "metadata": {
    "papermill": {
     "duration": 0.052476,
     "end_time": "2021-02-04T13:19:34.353077",
     "exception": false,
     "start_time": "2021-02-04T13:19:34.300601",
     "status": "completed"
    },
    "tags": []
   },
   "source": [
    "**도움이 되었다면 업보트 upvote 부탁드립니다!!!**"
   ]
  }
 ],
 "metadata": {
  "kernelspec": {
   "display_name": "Python 3",
   "language": "python",
   "name": "python3"
  },
  "language_info": {
   "codemirror_mode": {
    "name": "ipython",
    "version": 3
   },
   "file_extension": ".py",
   "mimetype": "text/x-python",
   "name": "python",
   "nbconvert_exporter": "python",
   "pygments_lexer": "ipython3",
   "version": "3.7.9"
  },
  "papermill": {
   "default_parameters": {},
   "duration": 404.37322,
   "end_time": "2021-02-04T13:19:35.116065",
   "environment_variables": {},
   "exception": null,
   "input_path": "__notebook__.ipynb",
   "output_path": "__notebook__.ipynb",
   "parameters": {},
   "start_time": "2021-02-04T13:12:50.742845",
   "version": "2.2.2"
  }
 },
 "nbformat": 4,
 "nbformat_minor": 4
}
